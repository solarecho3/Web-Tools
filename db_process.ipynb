{
 "cells": [
  {
   "cell_type": "code",
   "execution_count": null,
   "metadata": {},
   "outputs": [],
   "source": [
    "import pandas as pd\n",
    "chunk_size=50000\n",
    "batch_no=1\n",
    "\n",
    "for chunk in pd.read_csv()\n",
    "# https://blog.hubspot.com/marketing/sql-tutorial-introduction\n",
    "# https://stackoverflow.com/questions/47075300/processing-a-large-sql-query-in-python-using-\n",
    "# https://towardsdatascience.com/loading-large-datasets-in-pandas-11bdddd36f7b"
   ]
  }
 ],
 "metadata": {
  "language_info": {
   "name": "python"
  },
  "orig_nbformat": 4
 },
 "nbformat": 4,
 "nbformat_minor": 2
}
