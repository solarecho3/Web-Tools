{
 "cells": [
  {
   "cell_type": "markdown",
   "metadata": {},
   "source": [
    "### Imports\n",
    "\n",
    "    web_tools: The web utilities module. It is object-oriented classes containing all the functions and attributes for plugging into a client.\n",
    "\n",
    "    time: To perform 'cron jobs'; timed scripts such as 'snapshot a user profile every 60 seconds'.\n",
    "    \n",
    "    os: Get current working directory."
   ]
  },
  {
   "cell_type": "code",
   "execution_count": null,
   "metadata": {},
   "outputs": [],
   "source": [
    "import web_tools\n",
    "import time\n",
    "import os\n",
    "os.getcwd()"
   ]
  },
  {
   "cell_type": "markdown",
   "metadata": {},
   "source": [
    "#### Create session\n",
    "\n",
    "    Instantiate a web_tools.Twitter_Session object, and pass the get_token_local method the keys JSON contained a Twitter bearer token. See documentation for schema reference."
   ]
  },
  {
   "cell_type": "code",
   "execution_count": 7,
   "metadata": {},
   "outputs": [],
   "source": [
    "t1 = web_tools.Twitter_Session()\n",
    "t1.get_token_local('keys.json')"
   ]
  },
  {
   "cell_type": "markdown",
   "metadata": {},
   "source": [
    "#### Examples\n",
    "\n",
    "    8 scripts to capture user data. Gather a user's profile, tweets, following, and followers. Then, conduct 4 seperate keyword queries, each with 1000 results. Warning: beware current rate limits. There are, at present, no direct safeguards to prevent the user from exceeding the rate limit.\n",
    "\n",
    "    Each time a method is called, the result is written to a SQLite 3 database. Each time a result is written the capture timestamp is included with the data. This allows for temporal analysis, such as the change in a profile's followers over time.\n",
    "\n",
    "    Refer to the documentation for other methods and attributes. Additionally, some methods, especially the ones that write data to databases, require specific inputs and have few safeguards. Use with decisiveness."
   ]
  },
  {
   "cell_type": "code",
   "execution_count": 8,
   "metadata": {},
   "outputs": [],
   "source": [
    "df = t1.get_user_profile('elonmusk')\n",
    "t1.df_to_db(df['id'][0], df, 'profile')\n",
    "\n",
    "df2 = t1.get_user_tweets(df['id'][0])\n",
    "t1.df_to_db(df['id'][0], df2, 'tweets')\n",
    "\n",
    "df3 = t1.get_user_following(df['id'][0], pages=1)\n",
    "t1.df_to_db(df['id'][0], df3, 'following')\n",
    "\n",
    "df4 = t1.get_user_followers(df['id'][0], pages=1)\n",
    "t1.df_to_db(df['id'][0], df4, 'followers')\n",
    "\n",
    "\n",
    "df5 = t1.get_string_query('xi', pages=1)\n",
    "t1.df_to_db(id = t1.response.headers['x-transaction-id'], data = df5, type = 'query', query_term = t1.query_log[len(t1.query_log)-1]['parsed_query_term'])\n",
    "\n",
    "df6 = t1.get_string_query('musk', pages=1)\n",
    "t1.df_to_db(id = t1.response.headers['x-transaction-id'], data = df6, type = 'query', query_term = t1.query_log[len(t1.query_log)-1]['parsed_query_term'])\n",
    "\n",
    "df7 = t1.get_string_query('putin', pages=1)\n",
    "t1.df_to_db(id = t1.response.headers['x-transaction-id'], data = df7, type = 'query', query_term = t1.query_log[len(t1.query_log)-1]['parsed_query_term'])\n",
    "\n",
    "df8 = t1.get_string_query('biden', pages=1)\n",
    "t1.df_to_db(id = t1.response.headers['x-transaction-id'], data = df8, type = 'query', query_term = t1.query_log[len(t1.query_log)-1]['parsed_query_term'])"
   ]
  },
  {
   "cell_type": "markdown",
   "metadata": {},
   "source": [
    "#### Retrieve from DB\n",
    "\n",
    "    Retrieve data from the database."
   ]
  },
  {
   "cell_type": "code",
   "execution_count": 9,
   "metadata": {},
   "outputs": [
    {
     "data": {
      "text/html": [
       "<div>\n",
       "<style scoped>\n",
       "    .dataframe tbody tr th:only-of-type {\n",
       "        vertical-align: middle;\n",
       "    }\n",
       "\n",
       "    .dataframe tbody tr th {\n",
       "        vertical-align: top;\n",
       "    }\n",
       "\n",
       "    .dataframe thead th {\n",
       "        text-align: right;\n",
       "    }\n",
       "</style>\n",
       "<table border=\"1\" class=\"dataframe\">\n",
       "  <thead>\n",
       "    <tr style=\"text-align: right;\">\n",
       "      <th></th>\n",
       "      <th>capture_timestamp</th>\n",
       "      <th>username</th>\n",
       "      <th>public_metrics</th>\n",
       "      <th>name</th>\n",
       "      <th>id</th>\n",
       "    </tr>\n",
       "  </thead>\n",
       "  <tbody>\n",
       "    <tr>\n",
       "      <th>0</th>\n",
       "      <td>2022-10-11 22:03:27.753445</td>\n",
       "      <td>scott_skitch</td>\n",
       "      <td>{'followers_count': 0, 'following_count': 22, ...</td>\n",
       "      <td>Scott Skitch</td>\n",
       "      <td>1580015388133396481</td>\n",
       "    </tr>\n",
       "    <tr>\n",
       "      <th>1</th>\n",
       "      <td>2022-10-11 22:03:27.753453</td>\n",
       "      <td>1z711</td>\n",
       "      <td>{'followers_count': 0, 'following_count': 20, ...</td>\n",
       "      <td>1z7</td>\n",
       "      <td>1349192185477001217</td>\n",
       "    </tr>\n",
       "    <tr>\n",
       "      <th>2</th>\n",
       "      <td>2022-10-11 22:03:27.753454</td>\n",
       "      <td>0_remyu0l</td>\n",
       "      <td>{'followers_count': 0, 'following_count': 1, '...</td>\n",
       "      <td>Remy</td>\n",
       "      <td>1580015707009568768</td>\n",
       "    </tr>\n",
       "    <tr>\n",
       "      <th>3</th>\n",
       "      <td>2022-10-11 22:03:27.753455</td>\n",
       "      <td>manimanolo2000</td>\n",
       "      <td>{'followers_count': 0, 'following_count': 72, ...</td>\n",
       "      <td>Inca Azuay</td>\n",
       "      <td>1580011404446367745</td>\n",
       "    </tr>\n",
       "    <tr>\n",
       "      <th>4</th>\n",
       "      <td>2022-10-11 22:03:27.753455</td>\n",
       "      <td>HenryMcManus16</td>\n",
       "      <td>{'followers_count': 0, 'following_count': 1, '...</td>\n",
       "      <td>Henry McManus</td>\n",
       "      <td>1580016054482472960</td>\n",
       "    </tr>\n",
       "    <tr>\n",
       "      <th>...</th>\n",
       "      <td>...</td>\n",
       "      <td>...</td>\n",
       "      <td>...</td>\n",
       "      <td>...</td>\n",
       "      <td>...</td>\n",
       "    </tr>\n",
       "    <tr>\n",
       "      <th>2995</th>\n",
       "      <td>2022-10-12 18:40:50.889483</td>\n",
       "      <td>EEmanetci</td>\n",
       "      <td>{'followers_count': 12, 'following_count': 77,...</td>\n",
       "      <td>Enes Emanetci</td>\n",
       "      <td>1438586079427403779</td>\n",
       "    </tr>\n",
       "    <tr>\n",
       "      <th>2996</th>\n",
       "      <td>2022-10-12 18:40:50.889483</td>\n",
       "      <td>Eazy_Www78</td>\n",
       "      <td>{'followers_count': 0, 'following_count': 22, ...</td>\n",
       "      <td>Vlad Frolov</td>\n",
       "      <td>1580324514881216513</td>\n",
       "    </tr>\n",
       "    <tr>\n",
       "      <th>2997</th>\n",
       "      <td>2022-10-12 18:40:50.889483</td>\n",
       "      <td>FulvioIslean</td>\n",
       "      <td>{'followers_count': 0, 'following_count': 3, '...</td>\n",
       "      <td>Islean Fulvio</td>\n",
       "      <td>1580228721360998401</td>\n",
       "    </tr>\n",
       "    <tr>\n",
       "      <th>2998</th>\n",
       "      <td>2022-10-12 18:40:50.889484</td>\n",
       "      <td>BlannonMaria</td>\n",
       "      <td>{'followers_count': 0, 'following_count': 3, '...</td>\n",
       "      <td>Genoveffa-Maria Blannon</td>\n",
       "      <td>1580291588177240064</td>\n",
       "    </tr>\n",
       "    <tr>\n",
       "      <th>2999</th>\n",
       "      <td>2022-10-12 18:40:50.889484</td>\n",
       "      <td>fti_di</td>\n",
       "      <td>{'followers_count': 0, 'following_count': 10, ...</td>\n",
       "      <td>Andrew</td>\n",
       "      <td>1580322007299801089</td>\n",
       "    </tr>\n",
       "  </tbody>\n",
       "</table>\n",
       "<p>3000 rows × 5 columns</p>\n",
       "</div>"
      ],
      "text/plain": [
       "               capture_timestamp        username  \\\n",
       "0     2022-10-11 22:03:27.753445    scott_skitch   \n",
       "1     2022-10-11 22:03:27.753453           1z711   \n",
       "2     2022-10-11 22:03:27.753454       0_remyu0l   \n",
       "3     2022-10-11 22:03:27.753455  manimanolo2000   \n",
       "4     2022-10-11 22:03:27.753455  HenryMcManus16   \n",
       "...                          ...             ...   \n",
       "2995  2022-10-12 18:40:50.889483       EEmanetci   \n",
       "2996  2022-10-12 18:40:50.889483      Eazy_Www78   \n",
       "2997  2022-10-12 18:40:50.889483    FulvioIslean   \n",
       "2998  2022-10-12 18:40:50.889484    BlannonMaria   \n",
       "2999  2022-10-12 18:40:50.889484          fti_di   \n",
       "\n",
       "                                         public_metrics  \\\n",
       "0     {'followers_count': 0, 'following_count': 22, ...   \n",
       "1     {'followers_count': 0, 'following_count': 20, ...   \n",
       "2     {'followers_count': 0, 'following_count': 1, '...   \n",
       "3     {'followers_count': 0, 'following_count': 72, ...   \n",
       "4     {'followers_count': 0, 'following_count': 1, '...   \n",
       "...                                                 ...   \n",
       "2995  {'followers_count': 12, 'following_count': 77,...   \n",
       "2996  {'followers_count': 0, 'following_count': 22, ...   \n",
       "2997  {'followers_count': 0, 'following_count': 3, '...   \n",
       "2998  {'followers_count': 0, 'following_count': 3, '...   \n",
       "2999  {'followers_count': 0, 'following_count': 10, ...   \n",
       "\n",
       "                         name                   id  \n",
       "0                Scott Skitch  1580015388133396481  \n",
       "1                         1z7  1349192185477001217  \n",
       "2                        Remy  1580015707009568768  \n",
       "3                  Inca Azuay  1580011404446367745  \n",
       "4               Henry McManus  1580016054482472960  \n",
       "...                       ...                  ...  \n",
       "2995            Enes Emanetci  1438586079427403779  \n",
       "2996              Vlad Frolov  1580324514881216513  \n",
       "2997            Islean Fulvio  1580228721360998401  \n",
       "2998  Genoveffa-Maria Blannon  1580291588177240064  \n",
       "2999                   Andrew  1580322007299801089  \n",
       "\n",
       "[3000 rows x 5 columns]"
      ]
     },
     "execution_count": 9,
     "metadata": {},
     "output_type": "execute_result"
    }
   ],
   "source": [
    "t1.db_to_df('44196397', 'followers')"
   ]
  },
  {
   "cell_type": "markdown",
   "metadata": {},
   "source": [
    "#### Useful attributes\n",
    "\n",
    "    The Twitter_Session object tracks use per session, such as the rate limits returned and queries requested."
   ]
  },
  {
   "cell_type": "code",
   "execution_count": 10,
   "metadata": {},
   "outputs": [
    {
     "data": {
      "text/plain": [
       "{'user_profile': {'remaining': 298.0,\n",
       "  'limit': 300.0,\n",
       "  'limit_reset': '18:47:13',\n",
       "  'percent_remaining': 99,\n",
       "  'limit_delta': '0:06:32',\n",
       "  'checked_at': datetime.datetime(2022, 10, 12, 18, 40, 41, 379274)},\n",
       " 'user_tweets': {'remaining': 1434.0,\n",
       "  'limit': 1500.0,\n",
       "  'limit_reset': '18:47:13',\n",
       "  'percent_remaining': 95,\n",
       "  'limit_delta': '0:06:23',\n",
       "  'checked_at': datetime.datetime(2022, 10, 12, 18, 40, 50, 104015)},\n",
       " 'user_following': {'remaining': 13.0,\n",
       "  'limit': 15.0,\n",
       "  'limit_reset': '18:47:22',\n",
       "  'percent_remaining': 86,\n",
       "  'limit_delta': '0:06:32',\n",
       "  'checked_at': datetime.datetime(2022, 10, 12, 18, 40, 50, 373590)},\n",
       " 'user_followers': {'remaining': 13.0,\n",
       "  'limit': 15.0,\n",
       "  'limit_reset': '18:47:23',\n",
       "  'percent_remaining': 86,\n",
       "  'limit_delta': '0:06:33',\n",
       "  'checked_at': datetime.datetime(2022, 10, 12, 18, 40, 50, 888587)},\n",
       " 'query': {'remaining': 370.0,\n",
       "  'limit': 450.0,\n",
       "  'limit_reset': '18:47:23',\n",
       "  'percent_remaining': 82,\n",
       "  'limit_delta': '0:06:19',\n",
       "  'checked_at': datetime.datetime(2022, 10, 12, 18, 41, 4, 176431)}}"
      ]
     },
     "execution_count": 10,
     "metadata": {},
     "output_type": "execute_result"
    }
   ],
   "source": [
    "t1.limit_log"
   ]
  },
  {
   "cell_type": "code",
   "execution_count": 11,
   "metadata": {},
   "outputs": [
    {
     "data": {
      "text/plain": [
       "{0: {'timestamp': datetime.datetime(2022, 10, 12, 18, 40, 54, 208953),\n",
       "  'x-transaction-id': '7965fa518f9237b7',\n",
       "  'query_term': 'xi',\n",
       "  'parsed_query_term': 'xi'},\n",
       " 1: {'timestamp': datetime.datetime(2022, 10, 12, 18, 40, 57, 414318),\n",
       "  'x-transaction-id': 'dbe3877f4f3df53a',\n",
       "  'query_term': 'musk',\n",
       "  'parsed_query_term': 'musk'},\n",
       " 2: {'timestamp': datetime.datetime(2022, 10, 12, 18, 41, 0, 751594),\n",
       "  'x-transaction-id': 'd5af23a55f87036f',\n",
       "  'query_term': 'putin',\n",
       "  'parsed_query_term': 'putin'},\n",
       " 3: {'timestamp': datetime.datetime(2022, 10, 12, 18, 41, 4, 179021),\n",
       "  'x-transaction-id': 'de9a13729cdff3b5',\n",
       "  'query_term': 'biden',\n",
       "  'parsed_query_term': 'biden'}}"
      ]
     },
     "execution_count": 11,
     "metadata": {},
     "output_type": "execute_result"
    }
   ],
   "source": [
    "t1.query_log\n"
   ]
  },
  {
   "cell_type": "markdown",
   "metadata": {},
   "source": [
    "#### Example 'cron'\n",
    "\n",
    "    This script takes a snapshot of elonmusk's Twitter profile every 60 seconds for 999 epochs, allowing the user to watch profile metrics change minute-by-minute."
   ]
  },
  {
   "cell_type": "code",
   "execution_count": null,
   "metadata": {},
   "outputs": [],
   "source": [
    "for i in range(999):\n",
    "    df = t1.get_user_profile('elonmusk')\n",
    "    t1.df_to_db(df['id'][0], df, 'profile')\n",
    "    time.sleep(60)\n",
    "    \n",
    "    \n",
    "    print(f'iteration {i+1}')"
   ]
  },
  {
   "cell_type": "code",
   "execution_count": 13,
   "metadata": {},
   "outputs": [
    {
     "name": "stdout",
     "output_type": "stream",
     "text": [
      "searching... ( o) ( o) -  -  -  -  -  - 1 \n",
      "Caught 'data', checking headers...\n",
      "Usage cap exceeded! exiting\n"
     ]
    }
   ],
   "source": [
    "import web_tools\n",
    "import random\n",
    "import sys\n",
    "import time\n",
    "\n",
    "t1 = web_tools.Twitter_Session()\n",
    "t1.get_token_local('keys.json')\n",
    "\n",
    "for i in range(999):\n",
    "\n",
    "    if random.choice(range(2)) == 0:\n",
    "        print(f'searching... ( o) ( o) -  -  -  -  -  - {i+1} ')\n",
    "    else:\n",
    "        print(f'{i+1} --- ô¿ô searching...')\n",
    "\n",
    "    try:\n",
    "        df5 = t1.get_string_query('china', pages=1)\n",
    "        t1.df_to_db(id = t1.response.headers['x-transaction-id'], data = df5, type = 'query', query_term = t1.query_log[len(t1.query_log)-1]['parsed_query_term'])\n",
    "        print(f'\\u001b[31;1m A sample from {t1.query_log[len(t1.query_log)-1][\"parsed_query_term\"]}\\u001b[0m')\n",
    "        print(df5.iloc[random.choice(range(len(df5)))]['text'])\n",
    "\n",
    "        df6 = t1.get_string_query('musk', pages=1)\n",
    "        t1.df_to_db(id = t1.response.headers['x-transaction-id'], data = df6, type = 'query', query_term = t1.query_log[len(t1.query_log)-1]['parsed_query_term'])\n",
    "        print(f'\\u001b[31;1m A little helping of {t1.query_log[len(t1.query_log)-1][\"parsed_query_term\"]}\\u001b[0m')\n",
    "        print(df6.iloc[random.choice(range(len(df6)))]['text'])\n",
    "\n",
    "        df7 = t1.get_string_query('russia', pages=1)\n",
    "        t1.df_to_db(id = t1.response.headers['x-transaction-id'], data = df7, type = 'query', query_term = t1.query_log[len(t1.query_log)-1]['parsed_query_term'])\n",
    "        print(f'\\u001b[31;1m A bit of the last one-hundred tweets about {t1.query_log[len(t1.query_log)-1][\"parsed_query_term\"]}\\u001b[0m')\n",
    "        print(df7.iloc[random.choice(range(len(df7)))]['text'])\n",
    "\n",
    "        df8 = t1.get_string_query('biden', pages=1)\n",
    "        t1.df_to_db(id = t1.response.headers['x-transaction-id'], data = df8, type = 'query', query_term = t1.query_log[len(t1.query_log)-1]['parsed_query_term'])\n",
    "        print(f'\\u001b[31;1m Are you sure you want to read about {t1.query_log[len(t1.query_log)-1][\"parsed_query_term\"]}?\\u001b[0m')\n",
    "        print(df8.iloc[random.choice(range(len(df8)))]['text'])\n",
    "        time.sleep(161)\n",
    "    except KeyError as err:\n",
    "        print(f'Caught KeyError, checking headers...')\n",
    "        if t1.response.json()['title'] == 'UsageCapExceeded':\n",
    "            print('Usage cap exceeded! exiting')\n",
    "            break\n",
    "\n",
    "    if random.choice(range(2)) == 0:\n",
    "        print('\\u001b[34m Still there?')\n",
    "        print(t1.random_line())\n",
    "        print('\\n')\n",
    "        print(t1.random_line())\n",
    "        print('\\n')\n",
    "        print(t1.random_line())\n",
    "        print('\\n \\u001b[0m')\n",
    "\n",
    "\n",
    "    if random.choice(range(2)) == 0:\n",
    "        print(f'sleeping (-.-)Zzz...{i+1}')\n",
    "    else:\n",
    "        print('[{-_-}] ZZZzz zz z... sleeping')\n"
   ]
  },
  {
   "cell_type": "code",
   "execution_count": 9,
   "metadata": {},
   "outputs": [
    {
     "data": {
      "text/plain": [
       "{'query': {'remaining': 39901.0,\n",
       "  'limit': 40000.0,\n",
       "  'limit_reset': '07:39:02',\n",
       "  'percent_remaining': 99,\n",
       "  'limit_delta': '0:14:09',\n",
       "  'checked_at': datetime.datetime(2022, 10, 13, 7, 24, 53, 438544)}}"
      ]
     },
     "execution_count": 9,
     "metadata": {},
     "output_type": "execute_result"
    }
   ],
   "source": [
    "t1.limit_log"
   ]
  },
  {
   "cell_type": "code",
   "execution_count": 11,
   "metadata": {},
   "outputs": [
    {
     "data": {
      "text/plain": [
       "b'{\"account_id\":1520056474126340096,\"product_name\":\"standard-basic\",\"title\":\"UsageCapExceeded\",\"period\":\"Monthly\",\"scope\":\"Product\",\"detail\":\"Usage cap exceeded: Monthly product cap\",\"type\":\"https://api.twitter.com/2/problems/usage-capped\"}'"
      ]
     },
     "execution_count": 11,
     "metadata": {},
     "output_type": "execute_result"
    }
   ],
   "source": [
    "t1.response.content"
   ]
  }
 ],
 "metadata": {
  "kernelspec": {
   "display_name": "Python 3.10.6 64-bit",
   "language": "python",
   "name": "python3"
  },
  "language_info": {
   "codemirror_mode": {
    "name": "ipython",
    "version": 3
   },
   "file_extension": ".py",
   "mimetype": "text/x-python",
   "name": "python",
   "nbconvert_exporter": "python",
   "pygments_lexer": "ipython3",
   "version": "3.10.7"
  },
  "orig_nbformat": 4,
  "vscode": {
   "interpreter": {
    "hash": "31f2aee4e71d21fbe5cf8b01ff0e069b9275f58929596ceb00d14d90e3e16cd6"
   }
  }
 },
 "nbformat": 4,
 "nbformat_minor": 2
}
