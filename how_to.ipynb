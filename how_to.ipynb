{
 "cells": [
  {
   "cell_type": "markdown",
   "metadata": {},
   "source": [
    "### Imports\n",
    "\n",
    "    web_tools: The web utilities module. It is object-oriented classes containing all the functions and attributes for plugging into a client.\n",
    "\n",
    "    time: To perform 'cron jobs'; timed scripts such as 'snapshot a user profile every 60 seconds'.\n",
    "    \n",
    "    os: Get current working directory."
   ]
  },
  {
   "cell_type": "code",
   "execution_count": 1,
   "metadata": {},
   "outputs": [
    {
     "data": {
      "text/plain": [
       "'/home/pemba/Documents/Github/Web-Tools'"
      ]
     },
     "execution_count": 1,
     "metadata": {},
     "output_type": "execute_result"
    }
   ],
   "source": [
    "import web_tools\n",
    "import time\n",
    "import os\n",
    "os.getcwd()"
   ]
  },
  {
   "cell_type": "markdown",
   "metadata": {},
   "source": [
    "#### Create session\n",
    "\n",
    "    Instantiate a web_tools.Twitter_Session object, and pass the get_token_local method the keys JSON contained a Twitter bearer token. See documentation for schema reference."
   ]
  },
  {
   "cell_type": "code",
   "execution_count": 2,
   "metadata": {},
   "outputs": [],
   "source": [
    "t1 = web_tools.Twitter_Session()\n",
    "t1.get_token_local('keys.json')"
   ]
  },
  {
   "cell_type": "markdown",
   "metadata": {},
   "source": [
    "#### Examples\n",
    "\n",
    "    8 scripts to capture user data. Gather a user's profile, tweets, following, and followers. Then, conduct 4 seperate keyword queries, each with 1000 results. Warning: beware current rate limits. There are, at present, no direct safeguards to prevent the user from exceeding the rate limit.\n",
    "\n",
    "    Each time a method is called, the result is written to a SQLite 3 database. Each time a result is written the capture timestamp is included with the data. This allows for temporal analysis, such as the change in a profile's followers over time.\n",
    "\n",
    "    Refer to the documentation for other methods and attributes. Additionally, some methods, especially the ones that write data to databases, require specific inputs and have few safeguards. Use with decisiveness."
   ]
  },
  {
   "cell_type": "code",
   "execution_count": 3,
   "metadata": {},
   "outputs": [],
   "source": [
    "df = t1.get_user_profile('elonmusk')\n",
    "t1.df_to_db(df['id'][0], df, 'profile')\n",
    "\n",
    "df2 = t1.get_user_tweets(df['id'][0])\n",
    "t1.df_to_db(df['id'][0], df2, 'tweets')\n",
    "\n",
    "df3 = t1.get_user_following(df['id'][0], pages=1)\n",
    "t1.df_to_db(df['id'][0], df3, 'following')\n",
    "\n",
    "df4 = t1.get_user_followers(df['id'][0], pages=1)\n",
    "t1.df_to_db(df['id'][0], df4, 'followers')\n",
    "\n",
    "\n",
    "df5 = t1.get_string_query('xi', pages=1)\n",
    "t1.df_to_db(id = t1.response.headers['x-transaction-id'], data = df5, type = 'query', query_term = t1.query_log[len(t1.query_log)-1]['parsed_query_term'])\n",
    "\n",
    "df6 = t1.get_string_query('musk', pages=1)\n",
    "t1.df_to_db(id = t1.response.headers['x-transaction-id'], data = df6, type = 'query', query_term = t1.query_log[len(t1.query_log)-1]['parsed_query_term'])\n",
    "\n",
    "df7 = t1.get_string_query('putin', pages=1)\n",
    "t1.df_to_db(id = t1.response.headers['x-transaction-id'], data = df7, type = 'query', query_term = t1.query_log[len(t1.query_log)-1]['parsed_query_term'])\n",
    "\n",
    "df8 = t1.get_string_query('biden', pages=1)\n",
    "t1.df_to_db(id = t1.response.headers['x-transaction-id'], data = df8, type = 'query', query_term = t1.query_log[len(t1.query_log)-1]['parsed_query_term'])"
   ]
  },
  {
   "cell_type": "markdown",
   "metadata": {},
   "source": [
    "#### Retrieve from DB\n",
    "\n",
    "    Retrieve data from the database."
   ]
  },
  {
   "cell_type": "code",
   "execution_count": 4,
   "metadata": {},
   "outputs": [
    {
     "data": {
      "text/html": [
       "<div>\n",
       "<style scoped>\n",
       "    .dataframe tbody tr th:only-of-type {\n",
       "        vertical-align: middle;\n",
       "    }\n",
       "\n",
       "    .dataframe tbody tr th {\n",
       "        vertical-align: top;\n",
       "    }\n",
       "\n",
       "    .dataframe thead th {\n",
       "        text-align: right;\n",
       "    }\n",
       "</style>\n",
       "<table border=\"1\" class=\"dataframe\">\n",
       "  <thead>\n",
       "    <tr style=\"text-align: right;\">\n",
       "      <th></th>\n",
       "      <th>capture_timestamp</th>\n",
       "      <th>username</th>\n",
       "      <th>public_metrics</th>\n",
       "      <th>name</th>\n",
       "      <th>id</th>\n",
       "    </tr>\n",
       "  </thead>\n",
       "  <tbody>\n",
       "    <tr>\n",
       "      <th>0</th>\n",
       "      <td>2022-10-11 22:03:27.753445</td>\n",
       "      <td>scott_skitch</td>\n",
       "      <td>{'followers_count': 0, 'following_count': 22, ...</td>\n",
       "      <td>Scott Skitch</td>\n",
       "      <td>1580015388133396481</td>\n",
       "    </tr>\n",
       "    <tr>\n",
       "      <th>1</th>\n",
       "      <td>2022-10-11 22:03:27.753453</td>\n",
       "      <td>1z711</td>\n",
       "      <td>{'followers_count': 0, 'following_count': 20, ...</td>\n",
       "      <td>1z7</td>\n",
       "      <td>1349192185477001217</td>\n",
       "    </tr>\n",
       "    <tr>\n",
       "      <th>2</th>\n",
       "      <td>2022-10-11 22:03:27.753454</td>\n",
       "      <td>0_remyu0l</td>\n",
       "      <td>{'followers_count': 0, 'following_count': 1, '...</td>\n",
       "      <td>Remy</td>\n",
       "      <td>1580015707009568768</td>\n",
       "    </tr>\n",
       "    <tr>\n",
       "      <th>3</th>\n",
       "      <td>2022-10-11 22:03:27.753455</td>\n",
       "      <td>manimanolo2000</td>\n",
       "      <td>{'followers_count': 0, 'following_count': 72, ...</td>\n",
       "      <td>Inca Azuay</td>\n",
       "      <td>1580011404446367745</td>\n",
       "    </tr>\n",
       "    <tr>\n",
       "      <th>4</th>\n",
       "      <td>2022-10-11 22:03:27.753455</td>\n",
       "      <td>HenryMcManus16</td>\n",
       "      <td>{'followers_count': 0, 'following_count': 1, '...</td>\n",
       "      <td>Henry McManus</td>\n",
       "      <td>1580016054482472960</td>\n",
       "    </tr>\n",
       "    <tr>\n",
       "      <th>...</th>\n",
       "      <td>...</td>\n",
       "      <td>...</td>\n",
       "      <td>...</td>\n",
       "      <td>...</td>\n",
       "      <td>...</td>\n",
       "    </tr>\n",
       "    <tr>\n",
       "      <th>3995</th>\n",
       "      <td>2022-11-11 14:57:46.526073</td>\n",
       "      <td>gracie_englund</td>\n",
       "      <td>{'followers_count': 56, 'following_count': 60,...</td>\n",
       "      <td>Gracie Englund</td>\n",
       "      <td>1494146615355092994</td>\n",
       "    </tr>\n",
       "    <tr>\n",
       "      <th>3996</th>\n",
       "      <td>2022-11-11 14:57:46.526073</td>\n",
       "      <td>JPolhovskiy</td>\n",
       "      <td>{'followers_count': 0, 'following_count': 1, '...</td>\n",
       "      <td>Jeka Polhovskiy</td>\n",
       "      <td>1591156379502477313</td>\n",
       "    </tr>\n",
       "    <tr>\n",
       "      <th>3997</th>\n",
       "      <td>2022-11-11 14:57:46.526074</td>\n",
       "      <td>bachrisyaif_</td>\n",
       "      <td>{'followers_count': 0, 'following_count': 5, '...</td>\n",
       "      <td>bachrisyaif</td>\n",
       "      <td>1591155199627796480</td>\n",
       "    </tr>\n",
       "    <tr>\n",
       "      <th>3998</th>\n",
       "      <td>2022-11-11 14:57:46.526074</td>\n",
       "      <td>DavidMeisel</td>\n",
       "      <td>{'followers_count': 51, 'following_count': 726...</td>\n",
       "      <td>David Meisel</td>\n",
       "      <td>952991725</td>\n",
       "    </tr>\n",
       "    <tr>\n",
       "      <th>3999</th>\n",
       "      <td>2022-11-11 14:57:46.526075</td>\n",
       "      <td>Ali_Hallaji79</td>\n",
       "      <td>{'followers_count': 0, 'following_count': 2, '...</td>\n",
       "      <td>Ali Hallaji</td>\n",
       "      <td>1585354599736672256</td>\n",
       "    </tr>\n",
       "  </tbody>\n",
       "</table>\n",
       "<p>4000 rows × 5 columns</p>\n",
       "</div>"
      ],
      "text/plain": [
       "               capture_timestamp        username  \\\n",
       "0     2022-10-11 22:03:27.753445    scott_skitch   \n",
       "1     2022-10-11 22:03:27.753453           1z711   \n",
       "2     2022-10-11 22:03:27.753454       0_remyu0l   \n",
       "3     2022-10-11 22:03:27.753455  manimanolo2000   \n",
       "4     2022-10-11 22:03:27.753455  HenryMcManus16   \n",
       "...                          ...             ...   \n",
       "3995  2022-11-11 14:57:46.526073  gracie_englund   \n",
       "3996  2022-11-11 14:57:46.526073     JPolhovskiy   \n",
       "3997  2022-11-11 14:57:46.526074    bachrisyaif_   \n",
       "3998  2022-11-11 14:57:46.526074     DavidMeisel   \n",
       "3999  2022-11-11 14:57:46.526075   Ali_Hallaji79   \n",
       "\n",
       "                                         public_metrics             name  \\\n",
       "0     {'followers_count': 0, 'following_count': 22, ...     Scott Skitch   \n",
       "1     {'followers_count': 0, 'following_count': 20, ...              1z7   \n",
       "2     {'followers_count': 0, 'following_count': 1, '...             Remy   \n",
       "3     {'followers_count': 0, 'following_count': 72, ...       Inca Azuay   \n",
       "4     {'followers_count': 0, 'following_count': 1, '...    Henry McManus   \n",
       "...                                                 ...              ...   \n",
       "3995  {'followers_count': 56, 'following_count': 60,...   Gracie Englund   \n",
       "3996  {'followers_count': 0, 'following_count': 1, '...  Jeka Polhovskiy   \n",
       "3997  {'followers_count': 0, 'following_count': 5, '...      bachrisyaif   \n",
       "3998  {'followers_count': 51, 'following_count': 726...     David Meisel   \n",
       "3999  {'followers_count': 0, 'following_count': 2, '...      Ali Hallaji   \n",
       "\n",
       "                       id  \n",
       "0     1580015388133396481  \n",
       "1     1349192185477001217  \n",
       "2     1580015707009568768  \n",
       "3     1580011404446367745  \n",
       "4     1580016054482472960  \n",
       "...                   ...  \n",
       "3995  1494146615355092994  \n",
       "3996  1591156379502477313  \n",
       "3997  1591155199627796480  \n",
       "3998            952991725  \n",
       "3999  1585354599736672256  \n",
       "\n",
       "[4000 rows x 5 columns]"
      ]
     },
     "execution_count": 4,
     "metadata": {},
     "output_type": "execute_result"
    }
   ],
   "source": [
    "t1.db_to_df('44196397', 'followers')"
   ]
  },
  {
   "cell_type": "markdown",
   "metadata": {},
   "source": [
    "#### Useful attributes\n",
    "\n",
    "    The Twitter_Session object tracks use per session, such as the rate limits returned and queries requested."
   ]
  },
  {
   "cell_type": "code",
   "execution_count": 5,
   "metadata": {},
   "outputs": [
    {
     "data": {
      "text/plain": [
       "{'user_profile': {'remaining': 299.0,\n",
       "  'limit': 300.0,\n",
       "  'limit_reset': '15:12:34',\n",
       "  'percent_remaining': 99,\n",
       "  'limit_delta': '0:15:00',\n",
       "  'checked_at': datetime.datetime(2022, 11, 11, 14, 57, 34, 198576)},\n",
       " 'user_tweets': {'remaining': 1467.0,\n",
       "  'limit': 1500.0,\n",
       "  'limit_reset': '15:12:34',\n",
       "  'percent_remaining': 97,\n",
       "  'limit_delta': '0:14:49',\n",
       "  'checked_at': datetime.datetime(2022, 11, 11, 14, 57, 45, 354541)},\n",
       " 'user_following': {'remaining': 14.0,\n",
       "  'limit': 15.0,\n",
       "  'limit_reset': '15:12:45',\n",
       "  'percent_remaining': 93,\n",
       "  'limit_delta': '0:15:00',\n",
       "  'checked_at': datetime.datetime(2022, 11, 11, 14, 57, 45, 635424)},\n",
       " 'user_followers': {'remaining': 14.0,\n",
       "  'limit': 15.0,\n",
       "  'limit_reset': '15:12:45',\n",
       "  'percent_remaining': 93,\n",
       "  'limit_delta': '0:14:59',\n",
       "  'checked_at': datetime.datetime(2022, 11, 11, 14, 57, 46, 524936)},\n",
       " 'query': {'remaining': 446.0,\n",
       "  'limit': 450.0,\n",
       "  'limit_reset': '15:12:46',\n",
       "  'percent_remaining': 99,\n",
       "  'limit_delta': '0:14:58',\n",
       "  'checked_at': datetime.datetime(2022, 11, 11, 14, 57, 48, 961291)}}"
      ]
     },
     "execution_count": 5,
     "metadata": {},
     "output_type": "execute_result"
    }
   ],
   "source": [
    "t1.limit_log"
   ]
  },
  {
   "cell_type": "code",
   "execution_count": 6,
   "metadata": {},
   "outputs": [
    {
     "data": {
      "text/plain": [
       "{0: {'timestamp': datetime.datetime(2022, 11, 11, 14, 57, 46, 966958),\n",
       "  'x-transaction-id': '59b1a37ab81d56ff',\n",
       "  'query_term': 'xi',\n",
       "  'parsed_query_term': 'xi'},\n",
       " 1: {'timestamp': datetime.datetime(2022, 11, 11, 14, 57, 47, 720970),\n",
       "  'x-transaction-id': '3ea3b2d35c3f4a42',\n",
       "  'query_term': 'musk',\n",
       "  'parsed_query_term': 'musk'},\n",
       " 2: {'timestamp': datetime.datetime(2022, 11, 11, 14, 57, 48, 248908),\n",
       "  'x-transaction-id': 'f734202806ceaa8c',\n",
       "  'query_term': 'putin',\n",
       "  'parsed_query_term': 'putin'},\n",
       " 3: {'timestamp': datetime.datetime(2022, 11, 11, 14, 57, 48, 961889),\n",
       "  'x-transaction-id': 'bc8b9afdb45d49c3',\n",
       "  'query_term': 'biden',\n",
       "  'parsed_query_term': 'biden'}}"
      ]
     },
     "execution_count": 6,
     "metadata": {},
     "output_type": "execute_result"
    }
   ],
   "source": [
    "t1.query_log\n"
   ]
  },
  {
   "cell_type": "markdown",
   "metadata": {},
   "source": [
    "#### Example 'cron'\n",
    "\n",
    "    This script takes a snapshot of elonmusk's Twitter profile every 60 seconds for 999 epochs, allowing the user to watch profile metrics change minute-by-minute."
   ]
  },
  {
   "cell_type": "code",
   "execution_count": 7,
   "metadata": {},
   "outputs": [
    {
     "ename": "KeyboardInterrupt",
     "evalue": "",
     "output_type": "error",
     "traceback": [
      "\u001b[0;31m---------------------------------------------------------------------------\u001b[0m",
      "\u001b[0;31mKeyboardInterrupt\u001b[0m                         Traceback (most recent call last)",
      "\u001b[1;32m/home/pemba/Documents/Github/Web-Tools/how_to.ipynb Cell 13\u001b[0m in \u001b[0;36m<cell line: 1>\u001b[0;34m()\u001b[0m\n\u001b[1;32m      <a href='vscode-notebook-cell:/home/pemba/Documents/Github/Web-Tools/how_to.ipynb#X15sZmlsZQ%3D%3D?line=1'>2</a>\u001b[0m df \u001b[39m=\u001b[39m t1\u001b[39m.\u001b[39mget_user_profile(\u001b[39m'\u001b[39m\u001b[39melonmusk\u001b[39m\u001b[39m'\u001b[39m)\n\u001b[1;32m      <a href='vscode-notebook-cell:/home/pemba/Documents/Github/Web-Tools/how_to.ipynb#X15sZmlsZQ%3D%3D?line=2'>3</a>\u001b[0m t1\u001b[39m.\u001b[39mdf_to_db(df[\u001b[39m'\u001b[39m\u001b[39mid\u001b[39m\u001b[39m'\u001b[39m][\u001b[39m0\u001b[39m], df, \u001b[39m'\u001b[39m\u001b[39mprofile\u001b[39m\u001b[39m'\u001b[39m)\n\u001b[0;32m----> <a href='vscode-notebook-cell:/home/pemba/Documents/Github/Web-Tools/how_to.ipynb#X15sZmlsZQ%3D%3D?line=3'>4</a>\u001b[0m time\u001b[39m.\u001b[39;49msleep(\u001b[39m60\u001b[39;49m)\n\u001b[1;32m      <a href='vscode-notebook-cell:/home/pemba/Documents/Github/Web-Tools/how_to.ipynb#X15sZmlsZQ%3D%3D?line=6'>7</a>\u001b[0m \u001b[39mprint\u001b[39m(\u001b[39mf\u001b[39m\u001b[39m'\u001b[39m\u001b[39miteration \u001b[39m\u001b[39m{\u001b[39;00mi\u001b[39m+\u001b[39m\u001b[39m1\u001b[39m\u001b[39m}\u001b[39;00m\u001b[39m'\u001b[39m)\n",
      "\u001b[0;31mKeyboardInterrupt\u001b[0m: "
     ]
    }
   ],
   "source": [
    "for i in range(999):\n",
    "    df = t1.get_user_profile('elonmusk')\n",
    "    t1.df_to_db(df['id'][0], df, 'profile')\n",
    "    time.sleep(60)\n",
    "    \n",
    "    \n",
    "    print(f'iteration {i+1}')"
   ]
  },
  {
   "cell_type": "code",
   "execution_count": 3,
   "metadata": {},
   "outputs": [
    {
     "name": "stdout",
     "output_type": "stream",
     "text": [
      "searching... ( o) ( o) -  -  -  -  -  - 1 \n",
      "\u001b[31;1m A sample from china\u001b[0m\n",
      "@POTUS the secret to Russia and China lie with our History. I don’t speak Russian and thanks to Reagan (dumbfuck) I’ll never see the minarets in St. Petersburg unless you children can stop squabbling.\n",
      "\u001b[31;1m A little helping of musk\u001b[0m\n",
      "RT @RadioFreeTom: I guess it was inevitable that this was going to come down to Musk siding with the conspiracy kooks. https://t.co/J5NGQuk…\n",
      "\u001b[31;1m A bit of the last one-hundred tweets about russia\u001b[0m\n",
      "RT @LakotaMan1: Here’s the deal: Paul Whelan for Donald Trump. Russia wants a spy for exchange — I say we oblige them.\n",
      "\u001b[31;1m Are you sure you want to read about biden?\u001b[0m\n",
      "RT @TonyHussein4: Rupert Murdoch’s far-right propoganda channel Fox News, MAGA House Republicans, and Senate Republicans, only care about i…\n",
      "zzZ~still~zzZZ ([-_-]) Zzz~sleeping~zz... -900 s....\n"
     ]
    },
    {
     "ename": "KeyboardInterrupt",
     "evalue": "",
     "output_type": "error",
     "traceback": [
      "\u001b[0;31m---------------------------------------------------------------------------\u001b[0m",
      "\u001b[0;31mKeyboardInterrupt\u001b[0m                         Traceback (most recent call last)",
      "\u001b[1;32m/home/pemba/Documents/Github/Web-Tools/how_to.ipynb Cell 14\u001b[0m in \u001b[0;36m<cell line: 9>\u001b[0;34m()\u001b[0m\n\u001b[1;32m     <a href='vscode-notebook-cell:/home/pemba/Documents/Github/Web-Tools/how_to.ipynb#X16sZmlsZQ%3D%3D?line=34'>35</a>\u001b[0m     \u001b[39mprint\u001b[39m(df8\u001b[39m.\u001b[39miloc[random\u001b[39m.\u001b[39mchoice(\u001b[39mrange\u001b[39m(\u001b[39mlen\u001b[39m(df8)))][\u001b[39m'\u001b[39m\u001b[39mtext\u001b[39m\u001b[39m'\u001b[39m])\n\u001b[1;32m     <a href='vscode-notebook-cell:/home/pemba/Documents/Github/Web-Tools/how_to.ipynb#X16sZmlsZQ%3D%3D?line=36'>37</a>\u001b[0m     \u001b[39mprint\u001b[39m(\u001b[39mf\u001b[39m\u001b[39m'\u001b[39m\u001b[39mzzZ~still~zzZZ ([-_-]) Zzz~sleeping~zz... -900 s....\u001b[39m\u001b[39m'\u001b[39m)\n\u001b[0;32m---> <a href='vscode-notebook-cell:/home/pemba/Documents/Github/Web-Tools/how_to.ipynb#X16sZmlsZQ%3D%3D?line=37'>38</a>\u001b[0m     time\u001b[39m.\u001b[39;49msleep(\u001b[39m25228\u001b[39;49m) \u001b[39m# one snapshot per 7 hours\u001b[39;00m\n\u001b[1;32m     <a href='vscode-notebook-cell:/home/pemba/Documents/Github/Web-Tools/how_to.ipynb#X16sZmlsZQ%3D%3D?line=38'>39</a>\u001b[0m \u001b[39mexcept\u001b[39;00m \u001b[39mKeyError\u001b[39;00m \u001b[39mas\u001b[39;00m err:\n\u001b[1;32m     <a href='vscode-notebook-cell:/home/pemba/Documents/Github/Web-Tools/how_to.ipynb#X16sZmlsZQ%3D%3D?line=39'>40</a>\u001b[0m     \u001b[39mprint\u001b[39m(\u001b[39mf\u001b[39m\u001b[39m'\u001b[39m\u001b[39mCaught KeyError, checking headers...\u001b[39m\u001b[39m'\u001b[39m)\n",
      "\u001b[0;31mKeyboardInterrupt\u001b[0m: "
     ]
    }
   ],
   "source": [
    "import web_tools\n",
    "import random\n",
    "import sys\n",
    "import time\n",
    "\n",
    "t1 = web_tools.Twitter_Session()\n",
    "t1.get_token_local('keys.json')\n",
    "\n",
    "for i in range(999):\n",
    "\n",
    "    if random.choice(range(2)) == 0:\n",
    "        print(f'searching... ( o) ( o) -  -  -  -  -  - {i+1} ')\n",
    "    else:\n",
    "        print(f'{i+1} --- ô¿ô searching...')\n",
    "\n",
    "    try:\n",
    "        df5 = t1.get_string_query('china', pages=1)\n",
    "        t1.df_to_db(id = t1.response.headers['x-transaction-id'], data = df5, type = 'query', query_term = t1.query_log[len(t1.query_log)-1]['parsed_query_term'])\n",
    "        print(f'\\u001b[31;1m A sample from {t1.query_log[len(t1.query_log)-1][\"parsed_query_term\"]}\\u001b[0m')\n",
    "        print(df5.iloc[random.choice(range(len(df5)))]['text'])\n",
    "\n",
    "        df6 = t1.get_string_query('musk', pages=1)\n",
    "        t1.df_to_db(id = t1.response.headers['x-transaction-id'], data = df6, type = 'query', query_term = t1.query_log[len(t1.query_log)-1]['parsed_query_term'])\n",
    "        print(f'\\u001b[31;1m A little helping of {t1.query_log[len(t1.query_log)-1][\"parsed_query_term\"]}\\u001b[0m')\n",
    "        print(df6.iloc[random.choice(range(len(df6)))]['text'])\n",
    "\n",
    "        df7 = t1.get_string_query('russia', pages=1)\n",
    "        t1.df_to_db(id = t1.response.headers['x-transaction-id'], data = df7, type = 'query', query_term = t1.query_log[len(t1.query_log)-1]['parsed_query_term'])\n",
    "        print(f'\\u001b[31;1m A bit of the last one-hundred tweets about {t1.query_log[len(t1.query_log)-1][\"parsed_query_term\"]}\\u001b[0m')\n",
    "        print(df7.iloc[random.choice(range(len(df7)))]['text'])\n",
    "\n",
    "        df8 = t1.get_string_query('biden', pages=1)\n",
    "        t1.df_to_db(id = t1.response.headers['x-transaction-id'], data = df8, type = 'query', query_term = t1.query_log[len(t1.query_log)-1]['parsed_query_term'])\n",
    "        print(f'\\u001b[31;1m Are you sure you want to read about {t1.query_log[len(t1.query_log)-1][\"parsed_query_term\"]}?\\u001b[0m')\n",
    "        print(df8.iloc[random.choice(range(len(df8)))]['text'])\n",
    "\n",
    "        print(f'zzZ~still~zzZZ ([-_-]) Zzz~sleeping~zz... -900 s....')\n",
    "        time.sleep(25228) # one snapshot per 7 hours\n",
    "    except KeyError as err:\n",
    "        print(f'Caught KeyError, checking headers...')\n",
    "        if t1.response.json()['title'] == 'UsageCapExceeded':\n",
    "            print('Usage cap exceeded! exiting')\n",
    "            break\n",
    "\n",
    "    if random.choice(range(2)) == 0:\n",
    "        print('\\u001b[34m Still there?')\n",
    "        print(web_tools.random_line())\n",
    "        print('\\n')\n",
    "        print(web_tools.random_line())\n",
    "        print('\\n')\n",
    "        print(web_tools.random_line())\n",
    "        print('\\n \\u001b[0m')\n",
    "\n",
    "\n",
    "    if random.choice(range(2)) == 0:\n",
    "        print(f'sleeping (-.-)Zzz...{i+1}')\n",
    "    else:\n",
    "        print('[{-_-}] ZZZzz zz z... sleeping')\n",
    "\n",
    "    print(t1.limit_log)"
   ]
  },
  {
   "cell_type": "code",
   "execution_count": 2,
   "metadata": {},
   "outputs": [
    {
     "data": {
      "text/plain": [
       "b'{\"data\":[{\"edit_history_tweet_ids\":[\"1601442604063023104\"],\"id\":\"1601442604063023104\",\"text\":\"RT @JohnRatcliffe: What I said as the DNI in October 2020 was proven true. The IC had zero intelligence supporting a false narrative that t\\xe2\\x80\\xa6\"},{\"edit_history_tweet_ids\":[\"1601442603198652416\"],\"id\":\"1601442603198652416\",\"text\":\"RT @DineshDSouza: Don\\xe2\\x80\\x99t expect #BrittneyGriner to start singing the national anthem. Her refusal to do so\\xe2\\x80\\x94indeed her anti-American stance i\\xe2\\x80\\xa6\"},{\"edit_history_tweet_ids\":[\"1601442602817290240\"],\"id\":\"1601442602817290240\",\"text\":\"RT @JDCocchiarella: If Joe Biden \\xe2\\x80\\x9ccontrols gas prices\\xe2\\x80\\x9d why aren\\xe2\\x80\\x99t Republicans thanking him for the recent drop in cost?\"},{\"edit_history_tweet_ids\":[\"1601442602129448961\"],\"id\":\"1601442602129448961\",\"text\":\"RT @DanielRollTide: Housing Crisis on the horizon.. Thank Biden  continuing Obama work.\"},{\"edit_history_tweet_ids\":[\"1601442600413958144\"],\"id\":\"1601442600413958144\",\"text\":\"RT @DashDobrofsky: She attacked Biden\\xe2\\x80\\x99s student debt forgiveness plan, despite her failure to pay back $183K in PPP loans. She preaches abo\\xe2\\x80\\xa6\"},{\"edit_history_tweet_ids\":[\"1601442599789031426\"],\"id\":\"1601442599789031426\",\"text\":\"RT @ResisttheMS: \\\\uD83D\\\\uDD34 Appeals Court Rules on Biden Admin\\'s Order Requiring Medical Centers to Perform Transgender Surgeries\\\\n\\\\nhttps://t.co/pt71\\xe2\\x80\\xa6\"},{\"edit_history_tweet_ids\":[\"1601442599432511489\"],\"id\":\"1601442599432511489\",\"text\":\"RT @kingojungle: Russian TV laughs at Biden\\xe2\\x80\\x99s prisoner swap. Leaves the war hero behind. Nails it when they say Paul Whelan has 3 things ag\\xe2\\x80\\xa6\"},{\"edit_history_tweet_ids\":[\"1601442597591191552\"],\"id\":\"1601442597591191552\",\"text\":\"@NEWSMAX I remember a time joe biden said they created the biggest voter fraud organization right before the election.. biden was installed not elected he\\'s a fraud...\"},{\"edit_history_tweet_ids\":[\"1601442596311601152\"],\"id\":\"1601442596311601152\",\"text\":\"@elonmusk @ZacksJerryRig If you supported Biden... what say you now?\"},{\"edit_history_tweet_ids\":[\"1601442596198690822\"],\"id\":\"1601442596198690822\",\"text\":\"RT @anthonyzenkus: The Espionage Act of 1917 is pur1e fascism. Obama used it, and now Biden\\'s using it.\"},{\"edit_history_tweet_ids\":[\"1601442595796054017\"],\"id\":\"1601442595796054017\",\"text\":\"RT @JesseKellyDC: REMINDER: The FBI had possession of Hunter Biden\\xe2\\x80\\x99s laptop back in 2019. They knew it was real. They had it censored and t\\xe2\\x80\\xa6\"},{\"edit_history_tweet_ids\":[\"1601442595736911873\"],\"id\":\"1601442595736911873\",\"text\":\"RT @meantweeting1: Jill Biden \\\\\"The most important thing you can do to prepare for the holidays is get your UPDATED Covid Vaccine\\\\\" \\\\n\\\\nWhat\\'s\\xe2\\x80\\xa6\"},{\"edit_history_tweet_ids\":[\"1601442595619540992\"],\"id\":\"1601442595619540992\",\"text\":\"RT @mdubowitz: This man is a mass-murdering tyrant. He is destroying the youth of Iran. \\\\n\\\\nThe Biden administration &amp; European leaders conde\\xe2\\x80\\xa6\"},{\"edit_history_tweet_ids\":[\"1601442594198016000\"],\"id\":\"1601442594198016000\",\"text\":\"RT @D_jeneration: Can we all talk about the fact that Joe Biden is really good at being President\"},{\"edit_history_tweet_ids\":[\"1601442593912471552\"],\"id\":\"1601442593912471552\",\"text\":\"RT @DemocracyNowEs: Publicar no es un delito: Grandes peri\\xc3\\xb3dicos como The New York Times, The Guardian y otros, instan al Gobierno de Biden\\xe2\\x80\\xa6\"},{\"edit_history_tweet_ids\":[\"1601442589055782912\"],\"id\":\"1601442589055782912\",\"text\":\"RT @runews: BIDEN AUTHORIZES NEW $275 MLN IN MILITARY AID FOR UKRAINE - WHITE HOUSE\\\\n\\\\nMeanwhile in Chicago https://t.co/7rivz0q5n5\"},{\"edit_history_tweet_ids\":[\"1601442588539617281\"],\"id\":\"1601442588539617281\",\"text\":\"Please stop talking about the Hunter Biden laptop @WashTimesOpEd  https://t.co/Fr8p7bz4il\"},{\"edit_history_tweet_ids\":[\"1601442588250501123\"],\"id\":\"1601442588250501123\",\"text\":\"RT @LangmanVince: Thanks to the #TwitterFiles3 it\\'s now a proven fact that Bill Barr\\'s DOJ interfered in the 2020 election by colluding wit\\xe2\\x80\\xa6\"},{\"edit_history_tweet_ids\":[\"1601442587394871296\"],\"id\":\"1601442587394871296\",\"text\":\"@WSJ Biden isn\\xe2\\x80\\x99t the only one responsible for the border CRISIS. All elected officials who refuse to protect our citizens &amp; maintain the integrity of our country are guilty of refusal to enforce the law. They should NOT be allowed to legislate.\"},{\"edit_history_tweet_ids\":[\"1601442587138658305\"],\"id\":\"1601442587138658305\",\"text\":\"@Bull286017288 Somehow the AM radio megaphone to western Kansas will only blame it on Biden.\"},{\"edit_history_tweet_ids\":[\"1601442585708371969\"],\"id\":\"1601442585708371969\",\"text\":\"RT @ProudElephantUS: Raise your hand if you\\'re disgusted by Joe Biden\\'s first two years in office \\xe2\\x9c\\x8b\"},{\"edit_history_tweet_ids\":[\"1601442584848523264\"],\"id\":\"1601442584848523264\",\"text\":\"President Biden Just Waved The White Flag  #MAGA #TRUMP2024 #Trump\\\\n\\\\nhttps://t.co/YWvO6X9psV\"},{\"edit_history_tweet_ids\":[\"1601442584085221376\"],\"id\":\"1601442584085221376\",\"text\":\"RT @charliekirk11: It wasn\\'t the Russians. It wasn\\'t the Chinese. It wasn\\'t malicious foreign actors. \\\\n\\\\nIt was our own US Government meddli\\xe2\\x80\\xa6\"},{\"edit_history_tweet_ids\":[\"1601442583959736320\"],\"id\":\"1601442583959736320\",\"text\":\"RT @repdarrellissa: Every time Joe Biden negotiates one-on-one with a foreign adversary, America loses ground.\"},{\"edit_history_tweet_ids\":[\"1601442583607382017\"],\"id\":\"1601442583607382017\",\"text\":\"RT @NewYearsDani: @elonmusk @ZacksJerryRig 11,747 is the number of votes in Georgia which gave Biden the win here. \\\\n\\\\n~44,000 votes in swing\\xe2\\x80\\xa6\"},{\"edit_history_tweet_ids\":[\"1601442582864613376\"],\"id\":\"1601442582864613376\",\"text\":\"RT @JudicialWatch: The United States Secret Service has repeatedly changed its position about whether it is in possession of records relate\\xe2\\x80\\xa6\"},{\"edit_history_tweet_ids\":[\"1601442580428095489\"],\"id\":\"1601442580428095489\",\"text\":\"RT @WaterburyKevin: Just 12 Hours After Biden Spoke at a Gun Violence Vigil, He Freed a Notorious Criminal Arms Dealer.   \\\\uD83E\\\\uDD2C\\\\uD83E\\\\uDD2C\\\\uD83E\\\\uDD2C\\\\uD83E\\\\uDD2C\\\\uD83E\\\\uDD2C#FJB https:/\\xe2\\x80\\xa6\"},{\"edit_history_tweet_ids\":[\"1601442579526037504\"],\"id\":\"1601442579526037504\",\"text\":\"@thecjpearson She kneeled to protest SOCIAL INJUSTICE!! She WAS NOT protesting against the Military\\\\n\\\\nBesides, it was reported that Russia wanted A SPY in exchange for Whelan\\\\n\\\\nPROBLEM - We have NO SPIES in our custody\\\\n\\\\nBiden couldn\\'t deliver something THEY DO NOT HAVE (And NEITHER COULD TRUMP)\"},{\"edit_history_tweet_ids\":[\"1601442577630519296\"],\"id\":\"1601442577630519296\",\"text\":\"@JJfromtheUS @SeanWoodruff @_Schrami_ @iamraisini @mtaibbi I already said I mistyped in the post right after.\\\\n\\\\nYou\\'re terrible at reading. But you think Biden was president January 8th 2021.\"},{\"edit_history_tweet_ids\":[\"1601442576732540930\"],\"id\":\"1601442576732540930\",\"text\":\"RT @BillKristol: Biden on the whole governs successfully, Dem centrists mostly prevail in 2022, Dem Senate and House pass a fair amount of\\xe2\\x80\\xa6\"},{\"edit_history_tweet_ids\":[\"1601442575160082434\"],\"id\":\"1601442575160082434\",\"text\":\"RT @GeriatrickGames: Elon is doing a great service but is still censoring us over the 2020 election which he thinks Biden won legit. This i\\xe2\\x80\\xa6\"},{\"edit_history_tweet_ids\":[\"1601442572466999297\"],\"id\":\"1601442572466999297\",\"text\":\"RT @BlackKnight10k: So many people mad at Biden for saving the black girl and not the white dude when this is literally the first time in t\\xe2\\x80\\xa6\"},{\"edit_history_tweet_ids\":[\"1601442572047880192\"],\"id\":\"1601442572047880192\",\"text\":\"RT @charliekirk11: It wasn\\'t the Russians. It wasn\\'t the Chinese. It wasn\\'t malicious foreign actors. \\\\n\\\\nIt was our own US Government meddli\\xe2\\x80\\xa6\"},{\"edit_history_tweet_ids\":[\"1601442571678466050\"],\"id\":\"1601442571678466050\",\"text\":\"RT @JudicialWatch: The United States Secret Service has repeatedly changed its position about whether it is in possession of records relate\\xe2\\x80\\xa6\"},{\"edit_history_tweet_ids\":[\"1601442571141910543\"],\"id\":\"1601442571141910543\",\"text\":\"RT @WhiteHouse: President Biden\\xe2\\x80\\x99s economic plan is ushering in an American manufacturing boom, strengthening supply chains, creating jobs,\\xe2\\x80\\xa6\"},{\"edit_history_tweet_ids\":[\"1601442570860580865\"],\"id\":\"1601442570860580865\",\"text\":\"RT @WhiteHouse: President Biden\\xe2\\x80\\x99s economic plan is ushering in an American manufacturing boom, strengthening supply chains, creating jobs,\\xe2\\x80\\xa6\"},{\"edit_history_tweet_ids\":[\"1601442570541838337\"],\"id\":\"1601442570541838337\",\"text\":\"RT @laurenboebert: How could Biden leave Paul Whelan behind when he gave Putin back a notorious criminal known as the \\\\\"Merchant of Death\\\\\"?\\xe2\\x80\\xa6\"},{\"edit_history_tweet_ids\":[\"1601442569761980417\"],\"id\":\"1601442569761980417\",\"text\":\"RT @kingojungle: Russian TV laughs at Biden\\xe2\\x80\\x99s prisoner swap. Leaves the war hero behind. Nails it when they say Paul Whelan has 3 things ag\\xe2\\x80\\xa6\"},{\"edit_history_tweet_ids\":[\"1601442569623580672\"],\"id\":\"1601442569623580672\",\"text\":\"RT @DFBHarvard: After another release from Twitter tonight, do you have any doubt that Joe Biden never won the Presidency without cheating?\\xe2\\x80\\xa6\"},{\"edit_history_tweet_ids\":[\"1601442569560260609\"],\"id\":\"1601442569560260609\",\"text\":\"@FoxNews From Hillside nursing home ? By 24 Biden should be firmly embedded in the physic Unit at Walter Reed\"},{\"edit_history_tweet_ids\":[\"1601442569493569536\"],\"id\":\"1601442569493569536\",\"text\":\"RT @WhiteHouse: President Biden\\xe2\\x80\\x99s economic plan is ushering in an American manufacturing boom, strengthening supply chains, creating jobs,\\xe2\\x80\\xa6\"},{\"edit_history_tweet_ids\":[\"1601442569460027392\"],\"id\":\"1601442569460027392\",\"text\":\"RT @GunOwners: Less than 24 hours after the Biden admin bent over backwards to save Brittney Griner and released a Russian arms dealer who\\xe2\\x80\\xa6\"},{\"edit_history_tweet_ids\":[\"1601442568713441280\"],\"id\":\"1601442568713441280\",\"text\":\"@ericareport Maybe once Hillary and the Biden family go first then maybe Trump should.\"},{\"edit_history_tweet_ids\":[\"1601442568528891904\"],\"id\":\"1601442568528891904\",\"text\":\"RT @DLoesch: Biden sure does have a habit of leaving Marines behind.\"},{\"edit_history_tweet_ids\":[\"1601442567333507073\"],\"id\":\"1601442567333507073\",\"text\":\"RT @elonmusk: @ZacksJerryRig Do I think Trump would have lost anyway? Yes. And, as a reminder, I supported Biden, Hilary and Obama.\\\\n\\\\nNoneth\\xe2\\x80\\xa6\"},{\"edit_history_tweet_ids\":[\"1601442566662230023\"],\"id\":\"1601442566662230023\",\"text\":\"RT @CherylN74693069: @Concern70732755 Trudeau and Biden represent WEF, NOT their own Citizens.  Every day, Every way.\"},{\"edit_history_tweet_ids\":[\"1601442566523613185\"],\"id\":\"1601442566523613185\",\"text\":\"RT @FearTheFloof: So the FBI was just telling Twitter what to say and what to ban to help the Biden campaign up to the election and after t\\xe2\\x80\\xa6\"},{\"edit_history_tweet_ids\":[\"1601442566154911744\"],\"id\":\"1601442566154911744\",\"text\":\"RT @BidensWins: Raise your hand if you\\'re proud of President Biden\\'s first two years in office \\xe2\\x9c\\x8b\"},{\"edit_history_tweet_ids\":[\"1601442565508636674\"],\"id\":\"1601442565508636674\",\"text\":\"RT @DineshDSouza: Don\\xe2\\x80\\x99t expect #BrittneyGriner to start singing the national anthem. Her refusal to do so\\xe2\\x80\\x94indeed her anti-American stance i\\xe2\\x80\\xa6\"},{\"edit_history_tweet_ids\":[\"1601442562791084032\"],\"id\":\"1601442562791084032\",\"text\":\"RT @theliamnissan: If Republicans are upset that Biden released a Russian gun dealer who sold guns that killed Americans, just remind them\\xe2\\x80\\xa6\"},{\"edit_history_tweet_ids\":[\"1601442562664824833\"],\"id\":\"1601442562664824833\",\"text\":\"RT @AddisonSmithOAN: Marine Paul Whelan. Wrongfully detained in Russia. Serving 16 years.\\\\n\\\\nMarc Fogel. Teacher. Serving 14 years in Russian\\xe2\\x80\\xa6\"},{\"edit_history_tweet_ids\":[\"1601442562434555905\"],\"id\":\"1601442562434555905\",\"text\":\"RT @Bakari_Sellers: Y\\xe2\\x80\\x99all mad Biden went and got an American? Really? Our President went and got one of us. Are you mad because of her hair\\xe2\\x80\\xa6\"},{\"edit_history_tweet_ids\":[\"1601442561771864064\"],\"id\":\"1601442561771864064\",\"text\":\"Someone who believes that biden who loved byrd is capable of getting more votes than Obama or any other candidate in history \\\\uD83D\\\\uDC47 #voterfraud https://t.co/bPcXkono5P\"},{\"edit_history_tweet_ids\":[\"1601442561662812161\"],\"id\":\"1601442561662812161\",\"text\":\"RT @DineshDSouza: Don\\xe2\\x80\\x99t expect #BrittneyGriner to start singing the national anthem. Her refusal to do so\\xe2\\x80\\x94indeed her anti-American stance i\\xe2\\x80\\xa6\"},{\"edit_history_tweet_ids\":[\"1601442560349995008\"],\"id\":\"1601442560349995008\",\"text\":\"@SteveHiltonx Why would Joe Biden fire his henchman?\"},{\"edit_history_tweet_ids\":[\"1601442559825711104\"],\"id\":\"1601442559825711104\",\"text\":\"@UltraDane This is Joe Biden\\xe2\\x80\\x99s America folks. None of this happened when Trump was President. It\\xe2\\x80\\x99s something you can\\xe2\\x80\\x99t deny.\"},{\"edit_history_tweet_ids\":[\"1601442558852227072\"],\"id\":\"1601442558852227072\",\"text\":\"@laurenboebert You think Biden cares or knows, he probably thinks griners a woman\"},{\"edit_history_tweet_ids\":[\"1601442558160388096\"],\"id\":\"1601442558160388096\",\"text\":\"Faiz Shakir said of Sanders in an interview with CBS News that if it were an open field, \\\\\"I\\'m confident he would take another look at it and say, \\'Do I want to do this or not?\\'\\\\\" https://t.co/VChCTPPeXo\"},{\"edit_history_tweet_ids\":[\"1601442557145542657\"],\"id\":\"1601442557145542657\",\"text\":\"RT @AP: President Biden\\'s authorization to release a Russian felon once nicknamed \\xe2\\x80\\x9cthe Merchant of Death,\\\\\" underscored the escalating press\\xe2\\x80\\xa6\"},{\"edit_history_tweet_ids\":[\"1601442556948029441\"],\"id\":\"1601442556948029441\",\"text\":\"@thehill Biden isn\\xe2\\x80\\x99t the only one responsible for the border CRISIS. All elected officials who refuse to protect our citizens &amp; maintain the integrity of our country are guilty of refusal to enforce the law. They should NOT be allowed to legislate.\"},{\"edit_history_tweet_ids\":[\"1601442556713537537\"],\"id\":\"1601442556713537537\",\"text\":\"RT @mtaibbi: @ShellenbergerMD @bariweiss 20. This post about the Hunter Biden laptop situation shows that Roth not only met weekly with the\\xe2\\x80\\xa6\"},{\"edit_history_tweet_ids\":[\"1601442556113719297\"],\"id\":\"1601442556113719297\",\"text\":\"RT @TimRunsHisMouth: Imagine being the confused woman who thought the airline lost her luggage... when Biden\\'s nuclear waste freak in a dre\\xe2\\x80\\xa6\"},{\"edit_history_tweet_ids\":[\"1601442556088225792\"],\"id\":\"1601442556088225792\",\"text\":\"RT @NPR: For decades, the lack of a national tracking system for opioid overdoses made it harder for U.S. health officials to respond, expe\\xe2\\x80\\xa6\"},{\"edit_history_tweet_ids\":[\"1601442555308126208\"],\"id\":\"1601442555308126208\",\"text\":\"@bennyjohnson Biden wants to eliminate \\xe2\\x80\\x9cassault weapons\\xe2\\x80\\x9d but releases the merchant of death. VP Harris supports bring home BG on thc criminal charges but prosecuted 1000\\xe2\\x80\\x99s for the same thing. Did I fall into a universe of stupidity and lies!? Screw this administration. I\\xe2\\x80\\x99m done with Demcraps\"},{\"edit_history_tweet_ids\":[\"1601442554968707072\"],\"id\":\"1601442554968707072\",\"text\":\"RT @ToscaAusten: Half the nation was censored by Old Twitter while Joe Biden\\xe2\\x80\\x99s scandals were being buried by the cabal that could.\\\\n#Twitter\\xe2\\x80\\xa6\"},{\"edit_history_tweet_ids\":[\"1601442553873989632\"],\"id\":\"1601442553873989632\",\"text\":\"RT @catturd2: Does it surprise anyone the Biden regime would leave a Marine behind after they abandoned Americans in Afghanistan.\"},{\"edit_history_tweet_ids\":[\"1601442553504862209\"],\"id\":\"1601442553504862209\",\"text\":\"RT @its_the_Dr: Wow! Biden definitely wants to over run our Country with illegals! https://t.co/XMIbKn1aSf\"},{\"edit_history_tweet_ids\":[\"1601442553039294465\"],\"id\":\"1601442553039294465\",\"text\":\"RT @ninaturner: The House passed a military budget that was $45 billion **MORE** than the Biden Administration requested.\\\\n\\\\nNow ask me how m\\xe2\\x80\\xa6\"},{\"edit_history_tweet_ids\":[\"1601442551927828482\"],\"id\":\"1601442551927828482\",\"text\":\"RT @JesseKellyDC: REMINDER: The FBI had possession of Hunter Biden\\xe2\\x80\\x99s laptop back in 2019. They knew it was real. They had it censored and t\\xe2\\x80\\xa6\"},{\"edit_history_tweet_ids\":[\"1601442551671664640\"],\"id\":\"1601442551671664640\",\"text\":\"RT @Yeeezyrih: Kanye was scheduled to meet with Putin to release Brittney Griner\\xe2\\x80\\xa6 this mostly likely made Biden feel threatened so he sped\\xe2\\x80\\xa6\"},{\"edit_history_tweet_ids\":[\"1601442551537364992\"],\"id\":\"1601442551537364992\",\"text\":\"RT @RealJamesWoods: \\xe2\\x80\\x9cActor James Woods, who had a tweet flagged by the DNC as revealed in the first batch pertaining to Hunter Biden, resur\\xe2\\x80\\xa6\"},{\"edit_history_tweet_ids\":[\"1601442551470256128\"],\"id\":\"1601442551470256128\",\"text\":\"RT @EpochTimes: \\xe2\\x80\\x9cThe recommended timing for COVID boosters has changed many times and is now changing again,\\xe2\\x80\\x9d @FunctionalGov said.\\\\n\\\\nA watch\\xe2\\x80\\xa6\"},{\"edit_history_tweet_ids\":[\"1601442551453532160\"],\"id\":\"1601442551453532160\",\"text\":\"RT @NoLieWithBTC: This is US Marine Trevor Reed, who Biden got released from Russia. His release was delayed by Republicans like Marjorie T\\xe2\\x80\\xa6\"},{\"edit_history_tweet_ids\":[\"1601442549540868096\"],\"id\":\"1601442549540868096\",\"text\":\"RT @Tackspayer: @RudyGiuliani If Hunter committed crimes, Hunter should be arrested &amp; imprisoned.\\\\nIf Rudy Giuliani committed crimes, Rudy s\\xe2\\x80\\xa6\"},{\"edit_history_tweet_ids\":[\"1601442548660469760\"],\"id\":\"1601442548660469760\",\"text\":\"RT @TheBabylonBee: Biden Decides To Read \\'Art Of The Deal\\' After Getting Ripped Off In Griner Trade https://t.co/22ufSnAYRy\"},{\"edit_history_tweet_ids\":[\"1601442548270014465\"],\"id\":\"1601442548270014465\",\"text\":\"RT @GeorgePapa19: Jim Jordan dropped the hammer on Hunter Biden!\\\\n\\\\nhttps://t.co/oNLkA02HLD\"},{\"edit_history_tweet_ids\":[\"1601442547556982784\"],\"id\":\"1601442547556982784\",\"text\":\"RT @BidensWins: Raise your hand if you\\'re proud of President Biden\\'s first two years in office \\xe2\\x9c\\x8b\"},{\"edit_history_tweet_ids\":[\"1601442545862512640\"],\"id\":\"1601442545862512640\",\"text\":\"@FriendOrTheYeti @realOBF @dhookstead I mean, the Whelan for for Bout deal fell apart on our end in 2020.  So once Biden took over they may have been working on a new Whalen deal.  It obviously takes a long time to do these deals as Reeds took over 2 years.  Griner\\xe2\\x80\\x99s took almost a year.\"},{\"edit_history_tweet_ids\":[\"1601442545569255424\"],\"id\":\"1601442545569255424\",\"text\":\"RT @hodgetwins: @POTUS Dear Biden\\xe2\\x80\\x99s intern that tweeted this,\\\\n\\\\nYou will never get our guns\\\\n\\\\nSigned, \\\\nReal Americans\"},{\"edit_history_tweet_ids\":[\"1601442545329790977\"],\"id\":\"1601442545329790977\",\"text\":\"President Joe Biden and First last Dr.Jill Biden arriving at the White House State Dinner. https://t.co/GdEA1XoX0h\"},{\"edit_history_tweet_ids\":[\"1601442545229516800\"],\"id\":\"1601442545229516800\",\"text\":\"RT @WillieDMack1: #FJBLGBMAGA \\\\nBiden is a Traitor To America! https://t.co/XXWb66fkE5\"},{\"edit_history_tweet_ids\":[\"1601442545010999296\"],\"id\":\"1601442545010999296\",\"text\":\"@Liz_Wheeler Not wrong\\xe2\\x80\\xa6..it goes to show you who Biden and the Democrats really care about\\xe2\\x80\\xa6\\xe2\\x80\\xa6\\xe2\\x80\\xa6and it\\xe2\\x80\\x99s not a Marine who served his country. \\\\nSad day for America. We are being humiliated.\"},{\"edit_history_tweet_ids\":[\"1601442544889761795\"],\"id\":\"1601442544889761795\",\"text\":\"RT @matthewjdowd: Sinema is one of the most disliked people in Arizona.  She is even more unpopular than both Biden and Trump.  She has a n\\xe2\\x80\\xa6\"},{\"edit_history_tweet_ids\":[\"1601442544449392641\"],\"id\":\"1601442544449392641\",\"text\":\"RT @c_essene: Dictator Pinochet\\xe2\\x80\\x99s Emergency State went on for 15 years in Chile.\\\\nJoe Biden\\xe2\\x80\\x99s Emergency State won\\xe2\\x80\\x99t last as long, but it won\\xe2\\x80\\xa6\"},{\"edit_history_tweet_ids\":[\"1601442544180948992\"],\"id\":\"1601442544180948992\",\"text\":\"RT @JoJoFromJerz: President Biden says he\\xe2\\x80\\x99s working to bring Paul Whelan home.\\\\nYou know who never said that during his \\xe2\\x80\\x9cpresidency\\xe2\\x80\\x9d?\\\\n\\\\ndonal\\xe2\\x80\\xa6\"},{\"edit_history_tweet_ids\":[\"1601442544004796416\"],\"id\":\"1601442544004796416\",\"text\":\"RT @Leon4Congress: Biden chose an athlete over a marine for a prisoner swap. \\\\n\\\\nOne risked their life to defend our families; one got high.\\xe2\\x80\\xa6\"},{\"edit_history_tweet_ids\":[\"1601442543572426752\"],\"id\":\"1601442543572426752\",\"text\":\"RT @FascistTwatter: The people that believed Twitter wasn\\xe2\\x80\\x99t censoring conservatives are the same people that denied the legitimacy of Hunte\\xe2\\x80\\xa6\"},{\"edit_history_tweet_ids\":[\"1601442543165923328\"],\"id\":\"1601442543165923328\",\"text\":\"RT @AvengerResister: If Brittany Griner was still held captive, Tucker Carlson would criticize President Biden. He\\xe2\\x80\\x99s a hypocrite.\"},{\"edit_history_tweet_ids\":[\"1601442543090429955\"],\"id\":\"1601442543090429955\",\"text\":\"RT @WillieDMack1: #FJBLGBMAGA \\\\nBiden is a Traitor To America! https://t.co/XXWb66fkE5\"},{\"edit_history_tweet_ids\":[\"1601442542910050304\"],\"id\":\"1601442542910050304\",\"text\":\"RT @elonmusk: @ZacksJerryRig Do I think Trump would have lost anyway? Yes. And, as a reminder, I supported Biden, Hilary and Obama.\\\\n\\\\nNoneth\\xe2\\x80\\xa6\"},{\"edit_history_tweet_ids\":[\"1601442542545178625\"],\"id\":\"1601442542545178625\",\"text\":\"@MaliyahAngel @elonmusk @stillgray Biden and Fauci both said we would be protected from Covid if we all get the jab.  What liars, and what vaccine needs 2 jabs and boosters every 2 months??  None!  It is not a true vaccine and those that were duped to get it, still got Covid, some more than once!\"},{\"edit_history_tweet_ids\":[\"1601442540921634816\"],\"id\":\"1601442540921634816\",\"text\":\"RT @elonmusk: @ZacksJerryRig Do I think Trump would have lost anyway? Yes. And, as a reminder, I supported Biden, Hilary and Obama.\\\\n\\\\nNoneth\\xe2\\x80\\xa6\"},{\"edit_history_tweet_ids\":[\"1601442539785314304\"],\"id\":\"1601442539785314304\",\"text\":\"RT @joncoopertweets: \\\\uD83D\\\\uDEA8BREAKING: A new CNN poll released today shows President Biden with a 48% approval rating among registered voters!\"},{\"edit_history_tweet_ids\":[\"1601442539693047808\"],\"id\":\"1601442539693047808\",\"text\":\"RT @LemayTulsi: Remember when Biden, Democrats, and the propagandist media droned on endlessly about DeSantis being the governor of death?\\xe2\\x80\\xa6\"},{\"edit_history_tweet_ids\":[\"1601442539214897154\"],\"id\":\"1601442539214897154\",\"text\":\"RT @mtaibbi: @ShellenbergerMD @bariweiss 20. This post about the Hunter Biden laptop situation shows that Roth not only met weekly with the\\xe2\\x80\\xa6\"},{\"edit_history_tweet_ids\":[\"1601442538136940545\"],\"id\":\"1601442538136940545\",\"text\":\"RT @mtaibbi: @ShellenbergerMD @bariweiss 6.     As soon as they finished banning Trump, Twitter execs started processing new power. They pr\\xe2\\x80\\xa6\"},{\"edit_history_tweet_ids\":[\"1601442536412762112\"],\"id\":\"1601442536412762112\",\"text\":\"RT @mehdirhasan: Shameful. One of the worst things Biden has done as president.\"},{\"edit_history_tweet_ids\":[\"1601442536174022656\"],\"id\":\"1601442536174022656\",\"text\":\"RT @Belinda71555585: I care more about what\\'s on Hunter Biden\\'s laptop than Trump\\'s tax returns\"},{\"edit_history_tweet_ids\":[\"1601442535838449664\"],\"id\":\"1601442535838449664\",\"text\":\"RT @WhiteHouse: Happening Now: President Biden delivers remarks highlighting state and local leaders who are investing American Rescue Plan\\xe2\\x80\\xa6\"},{\"edit_history_tweet_ids\":[\"1601442535398076416\"],\"id\":\"1601442535398076416\",\"text\":\"RT @NewYearsDani: @elonmusk @ZacksJerryRig 11,747 is the number of votes in Georgia which gave Biden the win here. \\\\n\\\\n~44,000 votes in swing\\xe2\\x80\\xa6\"}],\"meta\":{\"newest_id\":\"1601442604063023104\",\"oldest_id\":\"1601442535398076416\",\"result_count\":100,\"next_token\":\"b26v89c19zqg8o3fqk0zzswulrcblc3yvnorlnerauwl9\"}}'"
      ]
     },
     "execution_count": 2,
     "metadata": {},
     "output_type": "execute_result"
    }
   ],
   "source": [
    "t1.response.content"
   ]
  },
  {
   "cell_type": "code",
   "execution_count": null,
   "metadata": {},
   "outputs": [
    {
     "data": {
      "text/plain": [
       "\"<module 'web_tools' from '/home/pemba/Documents/Github/Web-Tools/web_tools.py'>\""
      ]
     },
     "execution_count": 14,
     "metadata": {},
     "output_type": "execute_result"
    }
   ],
   "source": [
    "str(web_tools)"
   ]
  }
 ],
 "metadata": {
  "kernelspec": {
   "display_name": "Python 3.10.6 64-bit",
   "language": "python",
   "name": "python3"
  },
  "language_info": {
   "codemirror_mode": {
    "name": "ipython",
    "version": 3
   },
   "file_extension": ".py",
   "mimetype": "text/x-python",
   "name": "python",
   "nbconvert_exporter": "python",
   "pygments_lexer": "ipython3",
   "version": "3.10.7"
  },
  "orig_nbformat": 4,
  "vscode": {
   "interpreter": {
    "hash": "31f2aee4e71d21fbe5cf8b01ff0e069b9275f58929596ceb00d14d90e3e16cd6"
   }
  }
 },
 "nbformat": 4,
 "nbformat_minor": 2
}
